{
 "cells": [
  {
   "cell_type": "code",
   "execution_count": 1,
   "metadata": {},
   "outputs": [],
   "source": [
    "import pywt\n",
    "import numpy as np\n",
    "from matplotlib import pyplot as plt"
   ]
  },
  {
   "cell_type": "code",
   "execution_count": 2,
   "metadata": {},
   "outputs": [],
   "source": [
    "import glob\n",
    "import matplotlib\n",
    "from matplotlib import pyplot as plt\n",
    "import pandas as pd\n",
    "from pandas import DataFrame\n",
    "from pandas import Series\n",
    "from pandas import concat\n",
    "from pandas import read_csv\n",
    "from pandas import datetime\n",
    "%matplotlib inline"
   ]
  },
  {
   "cell_type": "code",
   "execution_count": 3,
   "metadata": {
    "scrolled": true
   },
   "outputs": [
    {
     "name": "stdout",
     "output_type": "stream",
     "text": [
      "DatetimeIndex(['2011-01-02', '2011-01-09', '2011-01-16', '2011-01-23',\n",
      "               '2011-01-30', '2011-02-06', '2011-02-13', '2011-02-20',\n",
      "               '2011-02-27', '2011-03-06', '2011-03-13', '2011-03-20',\n",
      "               '2011-03-27', '2011-04-03', '2011-04-10', '2011-04-17',\n",
      "               '2011-04-24', '2011-05-01', '2011-05-08', '2011-05-15',\n",
      "               '2011-05-22', '2011-05-29', '2011-06-05', '2011-06-12',\n",
      "               '2011-06-19', '2011-06-26', '2011-07-03', '2011-07-10'],\n",
      "              dtype='datetime64[ns]', freq='W-SUN')\n"
     ]
    }
   ],
   "source": [
    "reading_dates=pd.date_range('2011-01-01',freq='W',periods=28)\n",
    "print(reading_dates)"
   ]
  },
  {
   "cell_type": "code",
   "execution_count": 4,
   "metadata": {},
   "outputs": [],
   "source": [
    "files=glob.glob(\"csv/*.csv\")\n",
    "data=[]\n",
    "names=[]\n",
    "for file in files:\n",
    "    df=read_csv(file,header=None,names=['Av','Mx_rt','Mn_rt','Avg_rt','th'])\n",
    "    df['R_dates']=reading_dates\n",
    "    df=df.set_index('R_dates')\n",
    "    names.append(file)\n",
    "    data.append(df)"
   ]
  },
  {
   "cell_type": "code",
   "execution_count": 10,
   "metadata": {},
   "outputs": [
    {
     "name": "stderr",
     "output_type": "stream",
     "text": [
      "/home/ubuntu/anaconda3/envs/tensorflow/lib/python3.6/site-packages/pywt/_thresholding.py:23: RuntimeWarning: invalid value encountered in true_divide\n",
      "  thresholded = (1 - value/magnitude)\n"
     ]
    }
   ],
   "source": [
    "#denoise data values\n",
    "denoised_dfs=[]\n",
    "\n",
    "for i in range(len(data)):\n",
    "    denoised_df=[]\n",
    "    for j in range(5):       ## number of attributes\n",
    "        ts_Q_attr=data[i][data[i].columns[j]]\n",
    "        ts_Q_attr=ts_Q_attr.values\n",
    "        (ca, cd) = pywt.dwt(ts_Q_attr,'haar')\n",
    "        cat=pywt.threshold(ca, np.std(ca)/2,mode='soft')\n",
    "        cdt=pywt.threshold(cd, np.std(cd)/2,mode='soft')\n",
    "        ts_Q_attr_rec = pywt.idwt(cat, cdt, 'haar')\n",
    "        denoised_df.append(ts_Q_attr_rec.round(2))\n",
    "    denoised_df=DataFrame(denoised_df)\n",
    "    denoised_df=denoised_df.T\n",
    "    denoised_df.to_csv('csv_denoised/'+names[i][4:])\n",
    "    denoised_dfs.append(denoised_df)\n",
    "\n"
   ]
  },
  {
   "cell_type": "code",
   "execution_count": 42,
   "metadata": {},
   "outputs": [
    {
     "data": {
      "text/plain": [
       "['csv/service73.csv',\n",
       " 'csv/service76.csv',\n",
       " 'csv/service75.csv',\n",
       " 'csv/service74.csv',\n",
       " 'csv/service26.csv']"
      ]
     },
     "execution_count": 42,
     "metadata": {},
     "output_type": "execute_result"
    }
   ],
   "source": [
    "nan_contained_files=[]\n",
    "for i in range(len(denoised_dfs)):\n",
    "    for j in range(28):\n",
    "        for k in range(5):\n",
    "            if np.isnan(denoised_dfs[i].iloc[j][k]):\n",
    "                nan_contained_files.append(names[i])\n",
    "    \n",
    "    \n",
    "\n",
    "nan_contained_files=list(set( nan_contained_files))\n",
    "nan_contained_files"
   ]
  },
  {
   "cell_type": "code",
   "execution_count": 43,
   "metadata": {},
   "outputs": [
    {
     "data": {
      "text/plain": [
       "5"
      ]
     },
     "execution_count": 43,
     "metadata": {},
     "output_type": "execute_result"
    }
   ],
   "source": [
    "len(nan_contained_files)"
   ]
  },
  {
   "cell_type": "code",
   "execution_count": 45,
   "metadata": {},
   "outputs": [],
   "source": [
    "import os\n",
    "for i in range(len(nan_contained_files)):\n",
    "    os.remove( 'csv_denoised/'+nan_contained_files[i][4:])\n",
    "    "
   ]
  },
  {
   "cell_type": "code",
   "execution_count": null,
   "metadata": {},
   "outputs": [],
   "source": []
  }
 ],
 "metadata": {
  "kernelspec": {
   "display_name": "Python 3",
   "language": "python",
   "name": "python3"
  },
  "language_info": {
   "codemirror_mode": {
    "name": "ipython",
    "version": 3
   },
   "file_extension": ".py",
   "mimetype": "text/x-python",
   "name": "python",
   "nbconvert_exporter": "python",
   "pygments_lexer": "ipython3",
   "version": "3.6.7"
  }
 },
 "nbformat": 4,
 "nbformat_minor": 2
}
