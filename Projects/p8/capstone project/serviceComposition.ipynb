{
 "cells": [
  {
   "cell_type": "code",
   "execution_count": 19,
   "metadata": {},
   "outputs": [],
   "source": [
    "#------------------------------------------------------------------------------+\n",
    "#\n",
    "#   Samar shaaban Haytamy\n",
    "#   PSO service to select optimal web service  with Python\n",
    "#   OCT, 2018\n",
    "#\n",
    "#------------------------------------------------------------------------------+\n",
    "\n",
    "#--- IMPORT DEPENDENCIES ------------------------------------------------------+\n",
    "\n",
    "from __future__ import division\n",
    "import random\n",
    "import time"
   ]
  },
  {
   "cell_type": "code",
   "execution_count": 2,
   "metadata": {},
   "outputs": [],
   "source": [
    "from pandas import DataFrame\n",
    "#from pandas import Series\n",
    "#from pandas import concat\n",
    "from pandas import read_csv\n",
    "#from pandas import datetime\n",
    "import numpy as np"
   ]
  },
  {
   "cell_type": "code",
   "execution_count": 3,
   "metadata": {},
   "outputs": [],
   "source": [
    "#read future QoS_provision data\n",
    "import glob\n",
    "import pandas as pd\n",
    "files=glob.glob(\"csv_predictions/*.csv\")\n",
    "data=[]\n",
    "providers_names=[]\n",
    "for file in files:\n",
    "    df=read_csv(file,header=0,names=['Av','Mx_rt','Mn_rt','Avg_rt','th'])\n",
    "    providers_names.append(file)\n",
    "    df.drop(df.columns[[1,2]], axis=1, inplace=True)\n",
    "    data.append(df)"
   ]
  },
  {
   "cell_type": "code",
   "execution_count": 4,
   "metadata": {},
   "outputs": [
    {
     "name": "stdout",
     "output_type": "stream",
     "text": [
      "[[0.8676461  0.48452288 0.47976446]\n",
      " [0.83152074 0.5907682  0.588747  ]\n",
      " [0.8421104  0.54637253 0.54049224]\n",
      " [0.7373683  0.6523395  0.6414325 ]]\n"
     ]
    }
   ],
   "source": [
    "services=[]\n",
    "for sublist in data:\n",
    "    services.append(sublist.values)\n",
    "print(services[0])"
   ]
  },
  {
   "cell_type": "code",
   "execution_count": 5,
   "metadata": {},
   "outputs": [],
   "source": [
    "#split 100 services into 3 groups\n",
    "class_service_1=services[0:33]\n",
    "class_service_2=services[33:66]\n",
    "class_service_3=services[66:100]"
   ]
  },
  {
   "cell_type": "markdown",
   "metadata": {},
   "source": [
    "### read end user future preferences weights for each service"
   ]
  },
  {
   "cell_type": "code",
   "execution_count": 8,
   "metadata": {},
   "outputs": [],
   "source": [
    "user_weights_df=read_csv('future user_behavior.csv',header=0,names=['Av','Rt','Th'])"
   ]
  },
  {
   "cell_type": "code",
   "execution_count": 15,
   "metadata": {},
   "outputs": [],
   "source": [
    "W=list(user_weights_df.values)"
   ]
  },
  {
   "cell_type": "code",
   "execution_count": 6,
   "metadata": {},
   "outputs": [],
   "source": [
    "#test cases\n",
    "#class_service_1=[[0.21,0.8,0.35],[0.021,0.5,0.12]]\n",
    "#class_service_2=[[0.821,0.08,0.5],[0.901,0.4,0.15]]\n",
    "#class_service_3=[[0.621,0.25,0.22], [0.321,0.08,0.05]]    #???\n",
    "#W=[[0.8,0.6,0.6],[0.1,0.3,0.8],[0.621,0.25,0.22], [0.321,0.08,0.05]]          #???"
   ]
  },
  {
   "cell_type": "code",
   "execution_count": 7,
   "metadata": {},
   "outputs": [
    {
     "data": {
      "text/plain": [
       "33"
      ]
     },
     "execution_count": 7,
     "metadata": {},
     "output_type": "execute_result"
    }
   ],
   "source": [
    "#W[0][1]\n",
    "len(class_service_2)"
   ]
  },
  {
   "cell_type": "code",
   "execution_count": 8,
   "metadata": {},
   "outputs": [],
   "source": [
    "#--- COST FUNCTION ------------------------------------------------------------+\n",
    "# function we are attempting to optimize (minimize)\n",
    "\n",
    "def func1(x):\n",
    "    total_plan_value=0\n",
    "    T_peroids=len(x)//3      #Time periods=4=total points or dimensions(x)/#classes which are 3 as assumed\n",
    " #   print(\"X=\",x)\n",
    "    for i in range(T_peroids):\n",
    "        # assume the services are composed parallel aggragate QoS attributes values\n",
    "        aggre_rt=max(class_service_1[x[3*i+0]][i,0],class_service_2[x[3*i+1]][i,0],class_service_3[x[3*i+2]][i,0])\n",
    "        aggre_th=min(class_service_1[x[3*i+0]][i,1],class_service_2[x[3*i+1]][i,1],class_service_3[x[3*i+2]][i,1])\n",
    "        aggre_cost=class_service_1[x[3*i+0]][i,2]+class_service_2[x[3*i+1]][i,2]+class_service_3[x[3*i+2]][i,2]\n",
    "        value_plan_over_period_i=aggre_rt*W[i][0]+aggre_th*W[i][1]+aggre_cost*W[i][2]\n",
    "        total_plan_value+=value_plan_over_period_i\n",
    "\n",
    "    return total_plan_value"
   ]
  },
  {
   "cell_type": "code",
   "execution_count": 9,
   "metadata": {},
   "outputs": [],
   "source": [
    "class Particle:\n",
    "    def __init__(self,x0):\n",
    "        self.position_i=[]                   # particle position\n",
    "        self.velocity_i=[]                   # particle velocity\n",
    "        self.pos_best_i=[]                   # best position individual\n",
    "        self.local_best_fitness_value=-1     # best  individual fitness value\n",
    "        self.fitness_value=-1                # current individual fitness value\n",
    "\n",
    "        for i in range(0,num_dimensions):\n",
    "            self.velocity_i.append(random.uniform(-1,1))\n",
    "            self.position_i.append(x0[i])\n",
    "\n",
    "    # evaluate current fitness using optimization function: costFunction\n",
    "    def evaluate(self,costFunc):\n",
    "        self.fitness_value=costFunc(self.position_i)\n",
    "\n",
    "        # check to see if the current position is an individual best\n",
    "        if self.fitness_value > self.local_best_fitness_value or self.local_best_fitness_value==-1:\n",
    "            self.pos_best_i=self.position_i\n",
    "            self.local_best_fitness_value=self.fitness_value\n",
    "\n",
    "    # update new particle velocity\n",
    "    def update_velocity(self,pos_best_g):\n",
    "        w=0.8       # constant inertia weight (how much to weigh the previous velocity)\n",
    "        c1=2        # cognative constant\n",
    "        c2=2        # social constant\n",
    "\n",
    "        for i in range(0,num_dimensions):\n",
    "            r1=random.randint(0,2)\n",
    "            r2=random.randint(0,2)\n",
    "\n",
    "            vel_cognitive=c1*r1*(self.pos_best_i[i]-self.position_i[i])\n",
    "            vel_social=c2*r2*(pos_best_g[i]-self.position_i[i])\n",
    "            self.velocity_i[i]=w*self.velocity_i[i]+vel_cognitive+vel_social\n",
    "            \n",
    "\n",
    "    # update the particle position based off new velocity updates\n",
    "    def update_position(self,bounds):\n",
    "        for i in range(0,num_dimensions):\n",
    "            self.position_i[i]=self.position_i[i]+self.velocity_i[i]\n",
    "\n",
    "\n",
    "            #want to make it integer number refers to services number (through bounds)==>update bounds\n",
    "            #??? ok solved\n",
    "            # adjust maximum position if necessary\n",
    "            self.position_i[i]=int(self.position_i[i])\n",
    "            if self.position_i[i]>bounds[i%3][1]:\n",
    "                self.position_i[i]=bounds[i%3][1]\n",
    "\n",
    "            # adjust minimum position if neseccary\n",
    "            if self.position_i[i] < bounds[i%3][0]:\n",
    "                self.position_i[i]=bounds[i%3][0]\n"
   ]
  },
  {
   "cell_type": "code",
   "execution_count": null,
   "metadata": {},
   "outputs": [],
   "source": []
  },
  {
   "cell_type": "code",
   "execution_count": 25,
   "metadata": {},
   "outputs": [],
   "source": [
    "class PSO():\n",
    "    def __init__(self,costFunc,x0,bounds,num_particles,maxiter):\n",
    "        global num_dimensions\n",
    "\n",
    "        num_dimensions=len(x0)\n",
    "        value_best_g=-1                   # best value for group\n",
    "        pos_best_g=[]                   # best position for group\n",
    "\n",
    "        # establish the swarm\n",
    "        swarm=[]\n",
    "        for i in range(0,num_particles):\n",
    "            swarm.append(Particle(x0))\n",
    "\n",
    "        # begin optimization loop\n",
    "        i=0\n",
    "        while i < maxiter:\n",
    "            #print i,value_best_g\n",
    "            # cycle through particles in swarm and evaluate fitness\n",
    "            for j in range(0,num_particles):\n",
    "                swarm[j].evaluate(costFunc)\n",
    "\n",
    "                # determine if current particle is the best (globally)\n",
    "                if swarm[j].fitness_value > value_best_g or value_best_g == -1:\n",
    "                    pos_best_g=list(swarm[j].position_i)\n",
    "                    value_best_g=float(swarm[j].fitness_value)\n",
    "\n",
    "            # cycle through swarm and update velocities and positioncostFunc\n",
    "            for j in range(0,num_particles):\n",
    "                swarm[j].update_velocity(pos_best_g)\n",
    "                swarm[j].update_position(bounds)\n",
    "            i+=1\n",
    "\n",
    "        # print final results\n",
    "        print ('FINAL:')\n",
    "        pos_best_g=np.array(pos_best_g)\n",
    "        pos_best_g=pos_best_g.reshape(4,3)  #time period=4 , classes number=3\n",
    "        print ('best global position:\\n',pos_best_g)\n",
    "        print ('\\n \\n best global target value:  ',value_best_g)\n",
    "        for j in range(0,num_particles):\n",
    "            print(\"\\n \\n position[\",swarm[j].pos_best_i)\n",
    "            print(\"local_best_fitness_value[\",swarm[j].local_best_fitness_value)\n",
    "           "
   ]
  },
  {
   "cell_type": "code",
   "execution_count": 23,
   "metadata": {},
   "outputs": [
    {
     "name": "stdout",
     "output_type": "stream",
     "text": [
      "32\n"
     ]
    }
   ],
   "source": [
    "import random\n",
    "import time\n",
    "random.choice(range(len(class_service_1)))\n",
    "\n",
    "print(len(class_service_1)-1)"
   ]
  },
  {
   "cell_type": "code",
   "execution_count": 12,
   "metadata": {},
   "outputs": [],
   "source": [
    "T_periods=4\n",
    "class_numbers=3\n",
    "x0=[]\n",
    "for i in range(T_periods):\n",
    "    x0.append(random.choice(range(len(class_service_1))))\n",
    "    x0.append(random.choice(range(len(class_service_2))))\n",
    "    x0.append(random.choice(range(len(class_service_3))))"
   ]
  },
  {
   "cell_type": "code",
   "execution_count": 13,
   "metadata": {},
   "outputs": [
    {
     "data": {
      "text/plain": [
       "12"
      ]
     },
     "execution_count": 13,
     "metadata": {},
     "output_type": "execute_result"
    }
   ],
   "source": [
    "len(x0)"
   ]
  },
  {
   "cell_type": "code",
   "execution_count": 14,
   "metadata": {},
   "outputs": [],
   "source": [
    "bounds=[(0, len(class_service_1)-1),(0,len(class_service_2)-1),(0,len(class_service_3)-1)]"
   ]
  },
  {
   "cell_type": "code",
   "execution_count": 15,
   "metadata": {},
   "outputs": [
    {
     "data": {
      "text/plain": [
       "[(0, 32), (0, 32), (0, 33)]"
      ]
     },
     "execution_count": 15,
     "metadata": {},
     "output_type": "execute_result"
    }
   ],
   "source": [
    "bounds"
   ]
  },
  {
   "cell_type": "code",
   "execution_count": 28,
   "metadata": {},
   "outputs": [
    {
     "name": "stdout",
     "output_type": "stream",
     "text": [
      "FINAL:\n",
      "best global position:\n",
      " [[15 10  6]\n",
      " [ 0  7 24]\n",
      " [21  0 10]\n",
      " [ 0  0 33]]\n",
      "\n",
      " \n",
      " best global target value:   5.965020856760001\n",
      "\n",
      " \n",
      " position[ [7, 10, 0, 0, 0, 24, 21, 0, 0, 0, 0, 33]\n",
      "local_best_fitness_value[ 5.965020856760001\n",
      "\n",
      " \n",
      " position[ [7, 10, 3, 0, 14, 33, 21, 0, 4, 0, 0, 33]\n",
      "local_best_fitness_value[ 5.78743868536\n",
      "\n",
      " \n",
      " position[ [19, 10, 0, 0, 10, 33, 21, 0, 9, 0, 0, 33]\n",
      "local_best_fitness_value[ 5.6324023489399995\n",
      "\n",
      " \n",
      " position[ [0, 10, 13, 0, 7, 22, 21, 0, 19, 0, 0, 33]\n",
      "local_best_fitness_value[ 5.71154732852\n",
      "\n",
      " \n",
      " position[ [15, 20, 27, 0, 0, 0, 22, 0, 33, 0, 0, 33]\n",
      "local_best_fitness_value[ 5.6582854231\n"
     ]
    },
    {
     "data": {
      "text/plain": [
       "<__main__.PSO at 0x7fc658af5eb8>"
      ]
     },
     "execution_count": 28,
     "metadata": {},
     "output_type": "execute_result"
    }
   ],
   "source": [
    "PSO(func1,x0,bounds,num_particles=5,maxiter=100)"
   ]
  },
  {
   "cell_type": "code",
   "execution_count": null,
   "metadata": {},
   "outputs": [],
   "source": []
  },
  {
   "cell_type": "code",
   "execution_count": null,
   "metadata": {},
   "outputs": [],
   "source": []
  }
 ],
 "metadata": {
  "kernelspec": {
   "display_name": "Python 3",
   "language": "python",
   "name": "python3"
  },
  "language_info": {
   "codemirror_mode": {
    "name": "ipython",
    "version": 3
   },
   "file_extension": ".py",
   "mimetype": "text/x-python",
   "name": "python",
   "nbconvert_exporter": "python",
   "pygments_lexer": "ipython3",
   "version": "3.6.4"
  }
 },
 "nbformat": 4,
 "nbformat_minor": 2
}
