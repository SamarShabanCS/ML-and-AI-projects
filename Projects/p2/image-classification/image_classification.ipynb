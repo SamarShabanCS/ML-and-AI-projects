{
 "cells": [
  {
   "cell_type": "markdown",
   "metadata": {
    "collapsed": true
   },
   "source": [
    "# Image Classification\n",
    "In this project, you'll classify images from the [CIFAR-10 dataset](https://www.cs.toronto.edu/~kriz/cifar.html).  The dataset consists of airplanes, dogs, cats, and other objects. You'll preprocess the images, then train a convolutional neural network on all the samples. The images need to be normalized and the labels need to be one-hot encoded.  You'll get to apply what you learned and build a convolutional, max pooling, dropout, and fully connected layers.  At the end, you'll get to see your neural network's predictions on the sample images.\n",
    "## Get the Data\n",
    "Run the following cell to download the [CIFAR-10 dataset for python](https://www.cs.toronto.edu/~kriz/cifar-10-python.tar.gz)."
   ]
  },
  {
   "cell_type": "code",
   "execution_count": 1,
   "metadata": {},
   "outputs": [
    {
     "name": "stdout",
     "output_type": "stream",
     "text": [
      "All files found!\n"
     ]
    }
   ],
   "source": [
    "\"\"\"\n",
    "DON'T MODIFY ANYTHING IN THIS CELL THAT IS BELOW THIS LINE\n",
    "\"\"\"\n",
    "from urllib.request import urlretrieve\n",
    "from os.path import isfile, isdir\n",
    "from tqdm import tqdm\n",
    "import problem_unittests as tests\n",
    "import tarfile\n",
    "\n",
    "cifar10_dataset_folder_path = 'cifar-10-batches-py'\n",
    "\n",
    "class DLProgress(tqdm):\n",
    "    last_block = 0\n",
    "\n",
    "    def hook(self, block_num=1, block_size=1, total_size=None):\n",
    "        self.total = total_size\n",
    "        self.update((block_num - self.last_block) * block_size)\n",
    "        self.last_block = block_num\n",
    "\n",
    "if not isfile('cifar-10-python.tar.gz'):\n",
    "    with DLProgress(unit='B', unit_scale=True, miniters=1, desc='CIFAR-10 Dataset') as pbar:\n",
    "        urlretrieve(\n",
    "            'https://www.cs.toronto.edu/~kriz/cifar-10-python.tar.gz',\n",
    "            'cifar-10-python.tar.gz',\n",
    "            pbar.hook)\n",
    "\n",
    "if not isdir(cifar10_dataset_folder_path):\n",
    "    with tarfile.open('cifar-10-python.tar.gz') as tar:\n",
    "        tar.extractall()\n",
    "        tar.close()\n",
    "\n",
    "\n",
    "tests.test_folder_path(cifar10_dataset_folder_path)"
   ]
  },
  {
   "cell_type": "markdown",
   "metadata": {},
   "source": [
    "## Explore the Data\n",
    "The dataset is broken into batches to prevent your machine from running out of memory.  The CIFAR-10 dataset consists of 5 batches, named `data_batch_1`, `data_batch_2`, etc.. Each batch contains the labels and images that are one of the following:\n",
    "* airplane\n",
    "* automobile\n",
    "* bird\n",
    "* cat\n",
    "* deer\n",
    "* dog\n",
    "* frog\n",
    "* horse\n",
    "* ship\n",
    "* truck\n",
    "\n",
    "Understanding a dataset is part of making predictions on the data.  Play around with the code cell below by changing the `batch_id` and `sample_id`. The `batch_id` is the id for a batch (1-5). The `sample_id` is the id for a image and label pair in the batch.\n",
    "\n",
    "Ask yourself \"What are all possible labels?\", \"What is the range of values for the image data?\", \"Are the labels in order or random?\".  Answers to questions like these will help you preprocess the data and end up with better predictions."
   ]
  },
  {
   "cell_type": "code",
   "execution_count": 3,
   "metadata": {},
   "outputs": [
    {
     "name": "stdout",
     "output_type": "stream",
     "text": [
      "\n",
      "Stats of batch 1:\n",
      "Samples: 10000\n",
      "Label Counts: {0: 1005, 1: 974, 2: 1032, 3: 1016, 4: 999, 5: 937, 6: 1030, 7: 1001, 8: 1025, 9: 981}\n",
      "First 20 Labels: [6, 9, 9, 4, 1, 1, 2, 7, 8, 3, 4, 7, 7, 2, 9, 9, 9, 3, 2, 6]\n",
      "\n",
      "Example of Image 5:\n",
      "Image - Min Value: 0 Max Value: 252\n",
      "Image - Shape: (32, 32, 3)\n",
      "Label - Label Id: 1 Name: automobile\n"
     ]
    },
    {
     "data": {
      "image/png": "[encoded data removed]",
      "text/plain": [
       "<matplotlib.figure.Figure at 0x12a8726f28>"
      ]
     },
     "metadata": {
      "image/png": {
       "height": 250,
       "width": 253
      }
     },
     "output_type": "display_data"
    }
   ],
   "source": [
    "%matplotlib inline\n",
    "%config InlineBackend.figure_format = 'retina'\n",
    "\n",
    "import helper\n",
    "import numpy as np\n",
    "\n",
    "# Explore the dataset\n",
    "batch_id = 1\n",
    "sample_id = 5\n",
    "helper.display_stats(cifar10_dataset_folder_path, batch_id, sample_id)"
   ]
  },
  {
   "cell_type": "markdown",
   "metadata": {},
   "source": [
    "## Implement Preprocess Functions\n",
    "### Normalize\n",
    "In the cell below, implement the `normalize` function to take in image data, `x`, and return it as a normalized Numpy array. The values should be in the range of 0 to 1, inclusive.  The return object should be the same shape as `x`."
   ]
  },
  {
   "cell_type": "markdown",
   "metadata": {},
   "source": [
    "\n",
    "\n",
    "because the value of each pixel in any image is between [0,255]; the normalization can be done by dividing on 255."
   ]
  },
  {
   "cell_type": "code",
   "execution_count": 5,
   "metadata": {},
   "outputs": [
    {
     "name": "stdout",
     "output_type": "stream",
     "text": [
      "Tests Passed\n"
     ]
    }
   ],
   "source": [
    "def normalize(x):\n",
    "    \"\"\"\n",
    "    Normalize a list of sample image data in the range of 0 to 1\n",
    "    : x: List of image data.  The image shape is (32, 32, 3)\n",
    "    : return: Numpy array of normalize data\n",
    "    \"\"\"\n",
    "    # TODO: Implement Function\n",
    "    normalized_x=x/255\n",
    "    return normalized_x\n",
    "\n",
    "\n",
    "\"\"\"\n",
    "DON'T MODIFY ANYTHING IN THIS CELL THAT IS BELOW THIS LINE\n",
    "\"\"\"\n",
    "tests.test_normalize(normalize)"
   ]
  },
  {
   "cell_type": "markdown",
   "metadata": {},
   "source": [
    "### One-hot encode\n",
    "Just like the previous code cell, you'll be implementing a function for preprocessing.  This time, you'll implement the `one_hot_encode` function. The input, `x`, are a list of labels.  Implement the function to return the list of labels as One-Hot encoded Numpy array.  The possible values for labels are 0 to 9. The one-hot encoding function should return the same encoding for each value between each call to `one_hot_encode`.  Make sure to save the map of encodings outside the function.\n",
    "\n",
    "**Hint:**\n",
    "\n",
    "Look into LabelBinarizer in the preprocessing module of sklearn."
   ]
  },
  {
   "cell_type": "code",
   "execution_count": 8,
   "metadata": {
    "collapsed": true
   },
   "outputs": [],
   "source": [
    "def mapping(label_num):\n",
    "    encoding=np.zeros(10)\n",
    "    np.put(encoding,label_num,1)\n",
    "    return encoding"
   ]
  },
  {
   "cell_type": "code",
   "execution_count": 48,
   "metadata": {},
   "outputs": [
    {
     "name": "stdout",
     "output_type": "stream",
     "text": [
      "Tests Passed\n"
     ]
    }
   ],
   "source": [
    "def one_hot_encode(x):\n",
    "    \"\"\"\n",
    "    One hot encode a list of sample labels. Return a one-hot encoded vector for each label.\n",
    "    : x: List of sample Labels\n",
    "    : return: Numpy array of one-hot encoded labels\n",
    "    \"\"\"\n",
    "    # TODO: Implement Function\n",
    "    list_encoding=[]\n",
    "    for label in x:\n",
    "        list_encoding.append(mapping(label))\n",
    "    return np.array(list_encoding)\n",
    "\n",
    "\n",
    "\"\"\"\n",
    "DON'T MODIFY ANYTHING IN THIS CELL THAT IS BELOW THIS LINE\n",
    "\"\"\"\n",
    "tests.test_one_hot_encode(one_hot_encode)"
   ]
  },
  {
   "cell_type": "markdown",
   "metadata": {},
   "source": [
    "### Randomize Data\n",
    "As you saw from exploring the data above, the order of the samples are randomized.  It doesn't hurt to randomize it again, but you don't need to for this dataset."
   ]
  },
  {
   "cell_type": "markdown",
   "metadata": {},
   "source": [
    "## Preprocess all the data and save it\n",
    "Running the code cell below will preprocess all the CIFAR-10 data and save it to file. The code below also uses 10% of the training data for validation."
   ]
  },
  {
   "cell_type": "code",
   "execution_count": 49,
   "metadata": {
    "collapsed": true
   },
   "outputs": [],
   "source": [
    "\"\"\"\n",
    "DON'T MODIFY ANYTHING IN THIS CELL\n",
    "\"\"\"\n",
    "# Preprocess Training, Validation, and Testing Data\n",
    "helper.preprocess_and_save_data(cifar10_dataset_folder_path, normalize, one_hot_encode)"
   ]
  },
  {
   "cell_type": "markdown",
   "metadata": {},
   "source": [
    "# Check Point\n",
    "This is your first checkpoint.  If you ever decide to come back to this notebook or have to restart the notebook, you can start from here.  The preprocessed data has been saved to disk."
   ]
  },
  {
   "cell_type": "code",
   "execution_count": 16,
   "metadata": {
    "collapsed": true
   },
   "outputs": [],
   "source": [
    "\"\"\"\n",
    "DON'T MODIFY ANYTHING IN THIS CELL\n",
    "\"\"\"\n",
    "import pickle\n",
    "import problem_unittests as tests\n",
    "import helper\n",
    "\n",
    "# Load the Preprocessed Validation data\n",
    "valid_features, valid_labels = pickle.load(open('preprocess_validation.p', mode='rb'))"
   ]
  },
  {
   "cell_type": "markdown",
   "metadata": {},
   "source": [
    "## Build the network\n",
    "For the neural network, you'll build each layer into a function.  Most of the code you've seen has been outside of functions. To test your code more thoroughly, we require that you put each layer in a function.  This allows us to give you better feedback and test for simple mistakes using our unittests before you submit your project.\n",
    "\n",
    ">**Note:** If you're finding it hard to dedicate enough time for this course each week, we've provided a small shortcut to this part of the project. In the next couple of problems, you'll have the option to use classes from the [TensorFlow Layers](https://www.tensorflow.org/api_docs/python/tf/layers) or [TensorFlow Layers (contrib)](https://www.tensorflow.org/api_guides/python/contrib.layers) packages to build each layer, except the layers you build in the \"Convolutional and Max Pooling Layer\" section.  TF Layers is similar to Keras's and TFLearn's abstraction to layers, so it's easy to pickup.\n",
    "\n",
    ">However, if you would like to get the most out of this course, try to solve all the problems _without_ using anything from the TF Layers packages. You **can** still use classes from other packages that happen to have the same name as ones you find in TF Layers! For example, instead of using the TF Layers version of the `conv2d` class, [tf.layers.conv2d](https://www.tensorflow.org/api_docs/python/tf/layers/conv2d), you would want to use the TF Neural Network version of `conv2d`, [tf.nn.conv2d](https://www.tensorflow.org/api_docs/python/tf/nn/conv2d). \n",
    "\n",
    "Let's begin!\n",
    "\n",
    "### Input\n",
    "The neural network needs to read the image data, one-hot encoded labels, and dropout keep probability. Implement the following functions\n",
    "* Implement `neural_net_image_input`\n",
    " * Return a [TF Placeholder](https://www.tensorflow.org/api_docs/python/tf/placeholder)\n",
    " * Set the shape using `image_shape` with batch size set to `None`.\n",
    " * Name the TensorFlow placeholder \"x\" using the TensorFlow `name` parameter in the [TF Placeholder](https://www.tensorflow.org/api_docs/python/tf/placeholder).\n",
    "* Implement `neural_net_label_input`\n",
    " * Return a [TF Placeholder](https://www.tensorflow.org/api_docs/python/tf/placeholder)\n",
    " * Set the shape using `n_classes` with batch size set to `None`.\n",
    " * Name the TensorFlow placeholder \"y\" using the TensorFlow `name` parameter in the [TF Placeholder](https://www.tensorflow.org/api_docs/python/tf/placeholder).\n",
    "* Implement `neural_net_keep_prob_input`\n",
    " * Return a [TF Placeholder](https://www.tensorflow.org/api_docs/python/tf/placeholder) for dropout keep probability.\n",
    " * Name the TensorFlow placeholder \"keep_prob\" using the TensorFlow `name` parameter in the [TF Placeholder](https://www.tensorflow.org/api_docs/python/tf/placeholder).\n",
    "\n",
    "These names will be used at the end of the project to load your saved model.\n",
    "\n",
    "Note: `None` for shapes in TensorFlow allow for a dynamic size."
   ]
  },
  {
   "cell_type": "code",
   "execution_count": 50,
   "metadata": {},
   "outputs": [
    {
     "name": "stdout",
     "output_type": "stream",
     "text": [
      "Image Input Tests Passed.\n",
      "Label Input Tests Passed.\n",
      "Keep Prob Tests Passed.\n"
     ]
    }
   ],
   "source": [
    "import tensorflow as tf\n",
    "\n",
    "def neural_net_image_input(image_shape):\n",
    "    \"\"\"\n",
    "    Return a Tensor for a batch of image input\n",
    "    : image_shape: Shape of the images\n",
    "    : return: Tensor for image input.\n",
    "    \"\"\"\n",
    "    # TODO: Implement Function\n",
    "    x=tf.placeholder(tf.float32,shape=((None,)+image_shape),name=\"x\")\n",
    "    return x\n",
    "\n",
    "\n",
    "def neural_net_label_input(n_classes):\n",
    "    \"\"\"\n",
    "    Return a Tensor for a batch of label input\n",
    "    : n_classes: Number of classes\n",
    "    : return: Tensor for label input.\n",
    "    \"\"\"\n",
    "    # TODO: Implement Function\n",
    "    return tf.placeholder(tf.float32,shape=(None,n_classes),name=\"y\")\n",
    "\n",
    "\n",
    "def neural_net_keep_prob_input():\n",
    "    \"\"\"\n",
    "    Return a Tensor for keep probability\n",
    "    : return: Tensor for keep probability.\n",
    "    \"\"\"\n",
    "    # TODO: Implement Function\n",
    "    return tf.placeholder(tf.float32,name=\"keep_prob\")\n",
    "\n",
    "\n",
    "\"\"\"\n",
    "DON'T MODIFY ANYTHING IN THIS CELL THAT IS BELOW THIS LINE\n",
    "\"\"\"\n",
    "tf.reset_default_graph()\n",
    "tests.test_nn_image_inputs(neural_net_image_input)\n",
    "tests.test_nn_label_inputs(neural_net_label_input)\n",
    "tests.test_nn_keep_prob_inputs(neural_net_keep_prob_input)"
   ]
  },
  {
   "cell_type": "markdown",
   "metadata": {},
   "source": [
    "### Convolution and Max Pooling Layer\n",
    "Convolution layers have a lot of success with images. For this code cell, you should implement the function `conv2d_maxpool` to apply convolution then max pooling:\n",
    "* Create the weight and bias using `conv_ksize`, `conv_num_outputs` and the shape of `x_tensor`.\n",
    "* Apply a convolution to `x_tensor` using weight and `conv_strides`.\n",
    " * We recommend you use same padding, but you're welcome to use any padding.\n",
    "* Add bias\n",
    "* Add a nonlinear activation to the convolution.\n",
    "* Apply Max Pooling using `pool_ksize` and `pool_strides`.\n",
    " * We recommend you use same padding, but you're welcome to use any padding.\n",
    "\n",
    "**Note:** You **can't** use [TensorFlow Layers](https://www.tensorflow.org/api_docs/python/tf/layers) or [TensorFlow Layers (contrib)](https://www.tensorflow.org/api_guides/python/contrib.layers) for **this** layer, but you can still use TensorFlow's [Neural Network](https://www.tensorflow.org/api_docs/python/tf/nn) package. You may still use the shortcut option for all the **other** layers.\n",
    "\n",
    "** Hint: **\n",
    "\n",
    "When unpacking values as an argument in Python, look into the [unpacking](https://docs.python.org/3/tutorial/controlflow.html#unpacking-argument-lists) operator. "
   ]
  },
  {
   "cell_type": "code",
   "execution_count": 51,
   "metadata": {},
   "outputs": [
    {
     "name": "stdout",
     "output_type": "stream",
     "text": [
      "Tests Passed\n"
     ]
    }
   ],
   "source": [
    "def conv2d_maxpool(x_tensor, conv_num_outputs, conv_ksize, conv_strides, pool_ksize, pool_strides):\n",
    "    \"\"\"\n",
    "    Apply convolution then max pooling to x_tensor\n",
    "    :param x_tensor: TensorFlow Tensor\n",
    "    :param conv_num_outputs: Number of outputs for the convolutional layer\n",
    "    :param conv_ksize: kernal size 2-D Tuple for the convolutional layer\n",
    "    :param conv_strides: Stride 2-D Tuple for convolution\n",
    "    :param pool_ksize: kernal size 2-D Tuple for pool\n",
    "    :param pool_strides: Stride 2-D Tuple for pool\n",
    "    : return: A tensor that represents convolution and max pooling of x_tensor\n",
    "    \"\"\"\n",
    "    # TODO: Implement Function\n",
    "    weights=tf.Variable(tf.random_normal([conv_ksize[0],conv_ksize[1],x_tensor.get_shape().as_list()[-1],conv_num_outputs],stddev=0.1))\n",
    "    bias=tf.Variable(tf.zeros(conv_num_outputs),tf.float32)\n",
    "    conv_layer=tf.nn.conv2d(x_tensor,weights,strides=[1,conv_strides[0],conv_strides[1],1],padding=\"SAME\")\n",
    "    conv_layer=tf.nn.bias_add(conv_layer,bias)\n",
    "    conv_layer=tf.nn.relu(conv_layer)\n",
    "    conv_layer=tf.nn.max_pool(conv_layer,ksize=[1,pool_ksize[0],pool_ksize[1],1],strides=[1,pool_strides[0],pool_strides[1],1],padding=\"SAME\")\n",
    "    return conv_layer \n",
    "\n",
    "\n",
    "\"\"\"\n",
    "DON'T MODIFY ANYTHING IN THIS CELL THAT IS BELOW THIS LINE\n",
    "\"\"\"\n",
    "tests.test_con_pool(conv2d_maxpool)"
   ]
  },
  {
   "cell_type": "markdown",
   "metadata": {},
   "source": [
    "### Flatten Layer\n",
    "Implement the `flatten` function to change the dimension of `x_tensor` from a 4-D tensor to a 2-D tensor.  The output should be the shape (*Batch Size*, *Flattened Image Size*). Shortcut option: you can use classes from the [TensorFlow Layers](https://www.tensorflow.org/api_docs/python/tf/layers) or [TensorFlow Layers (contrib)](https://www.tensorflow.org/api_guides/python/contrib.layers) packages for this layer. For more of a challenge, only use other TensorFlow packages."
   ]
  },
  {
   "cell_type": "code",
   "execution_count": 52,
   "metadata": {},
   "outputs": [
    {
     "name": "stdout",
     "output_type": "stream",
     "text": [
      "Tests Passed\n"
     ]
    }
   ],
   "source": [
    "def flatten(x_tensor):\n",
    "    \"\"\"\n",
    "    Flatten x_tensor to (Batch Size, Flattened Image Size)\n",
    "    : x_tensor: A tensor of size (Batch Size, ...), where ... are the image dimensions.\n",
    "    : return: A tensor of size (Batch Size, Flattened Image Size).\n",
    "    \"\"\"\n",
    "    # TODO: Implement Function\n",
    "    d1=x_tensor.shape[1]*x_tensor.shape[2]*x_tensor.shape[3]\n",
    "    return tf.reshape(x_tensor,[-1,d1])\n",
    "\n",
    "\n",
    "\"\"\"\n",
    "DON'T MODIFY ANYTHING IN THIS CELL THAT IS BELOW THIS LINE\n",
    "\"\"\"\n",
    "tests.test_flatten(flatten)"
   ]
  },
  {
   "cell_type": "markdown",
   "metadata": {},
   "source": [
    "### Fully-Connected Layer\n",
    "Implement the `fully_conn` function to apply a fully connected layer to `x_tensor` with the shape (*Batch Size*, *num_outputs*). Shortcut option: you can use classes from the [TensorFlow Layers](https://www.tensorflow.org/api_docs/python/tf/layers) or [TensorFlow Layers (contrib)](https://www.tensorflow.org/api_guides/python/contrib.layers) packages for this layer. For more of a challenge, only use other TensorFlow packages."
   ]
  },
  {
   "cell_type": "code",
   "execution_count": 53,
   "metadata": {},
   "outputs": [
    {
     "name": "stdout",
     "output_type": "stream",
     "text": [
      "Tests Passed\n"
     ]
    }
   ],
   "source": [
    "def fully_conn(x_tensor, num_outputs):\n",
    "    \"\"\"\n",
    "    Apply a fully connected layer to x_tensor using weight and bias\n",
    "    : x_tensor: A 2-D tensor where the first dimension is batch size.\n",
    "    : num_outputs: The number of output that the new tensor should be.\n",
    "    : return: A 2-D tensor where the second dimension is num_outputs.\n",
    "    \"\"\"\n",
    "    # TODO: Implement Function\n",
    "    features=x_tensor.shape[1].value\n",
    "    weights=tf.Variable(tf.random_normal([features,num_outputs],stddev=0.1))\n",
    "    bias=tf.zeros(num_outputs,tf.float32)\n",
    "    fc=tf.add(tf.matmul(x_tensor,weights),bias)\n",
    "    fc=tf.nn.relu(fc)\n",
    "    return fc\n",
    "\n",
    "\n",
    "\"\"\"\n",
    "DON'T MODIFY ANYTHING IN THIS CELL THAT IS BELOW THIS LINE\n",
    "\"\"\"\n",
    "tests.test_fully_conn(fully_conn)"
   ]
  },
  {
   "cell_type": "markdown",
   "metadata": {},
   "source": [
    "### Output Layer\n",
    "Implement the `output` function to apply a fully connected layer to `x_tensor` with the shape (*Batch Size*, *num_outputs*). Shortcut option: you can use classes from the [TensorFlow Layers](https://www.tensorflow.org/api_docs/python/tf/layers) or [TensorFlow Layers (contrib)](https://www.tensorflow.org/api_guides/python/contrib.layers) packages for this layer. For more of a challenge, only use other TensorFlow packages.\n",
    "\n",
    "**Note:** Activation, softmax, or cross entropy should **not** be applied to this."
   ]
  },
  {
   "cell_type": "code",
   "execution_count": 54,
   "metadata": {},
   "outputs": [
    {
     "name": "stdout",
     "output_type": "stream",
     "text": [
      "Tests Passed\n"
     ]
    }
   ],
   "source": [
    "def output(x_tensor, num_outputs):\n",
    "    \"\"\"\n",
    "    Apply a output layer to x_tensor using weight and bias\n",
    "    : x_tensor: A 2-D tensor where the first dimension is batch size.\n",
    "    : num_outputs: The number of output that the new tensor should be.\n",
    "    : return: A 2-D tensor where the second dimension is num_outputs.\n",
    "    \"\"\"\n",
    "    # TODO: Implement Function\n",
    "    weights=tf.Variable(tf.random_normal([x_tensor.shape[1].value,num_outputs],stddev=0.1),tf.float32)\n",
    "    bias=tf.zeros(num_outputs,tf.float32)\n",
    "    out=tf.add(tf.matmul(x_tensor,weights),bias)\n",
    "    return out\n",
    "\n",
    "\n",
    "\"\"\"\n",
    "DON'T MODIFY ANYTHING IN THIS CELL THAT IS BELOW THIS LINE\n",
    "\"\"\"\n",
    "tests.test_output(output)"
   ]
  },
  {
   "cell_type": "markdown",
   "metadata": {},
   "source": [
    "### Create Convolutional Model\n",
    "Implement the function `conv_net` to create a convolutional neural network model. The function takes in a batch of images, `x`, and outputs logits.  Use the layers you created above to create this model:\n",
    "\n",
    "* Apply 1, 2, or 3 Convolution and Max Pool layers\n",
    "* Apply a Flatten Layer\n",
    "* Apply 1, 2, or 3 Fully Connected Layers\n",
    "* Apply an Output Layer\n",
    "* Return the output\n",
    "* Apply [TensorFlow's Dropout](https://www.tensorflow.org/api_docs/python/tf/nn/dropout) to one or more layers in the model using `keep_prob`. "
   ]
  },
  {
   "cell_type": "code",
   "execution_count": 56,
   "metadata": {},
   "outputs": [
    {
     "name": "stdout",
     "output_type": "stream",
     "text": [
      "Neural Network Built!\n"
     ]
    }
   ],
   "source": [
    "def conv_net(x, keep_prob):\n",
    "    \"\"\"\n",
    "    Create a convolutional neural network model\n",
    "    : x: Placeholder tensor that holds image data.\n",
    "    : keep_prob: Placeholder tensor that hold dropout keep probability.\n",
    "    : return: Tensor that represents logits\n",
    "    \"\"\"\n",
    "    # TODO: Apply 1, 2, or 3 Convolution and Max Pool layers\n",
    "    #    Play around with different number of outputs, kernel size and stride\n",
    "    # Function Definition from Above:\n",
    "    #    conv2d_maxpool(x_tensor, conv_num_outputs, conv_ksize, conv_strides, pool_ksize, pool_strides)\n",
    "    x=conv2d_maxpool(x,8,[4,4],[1,1],[2,2],[2,2])\n",
    "    x=conv2d_maxpool(x,16,[4,4],[1,1],[2,2],[2,2])\n",
    "    x=conv2d_maxpool(x,32,[4,4],[1,1],[2,2],[2,2])\n",
    "\n",
    "    # TODO: Apply a Flatten Layer\n",
    "    # Function Definition from Above:\n",
    "    #   flatten(x_tensor)\n",
    "    x=flatten(x)\n",
    "\n",
    "    # TODO: Apply 1, 2, or 3 Fully Connected Layers\n",
    "    #    Play around with different number of outputs\n",
    "    # Function Definition from Above:\n",
    "    #   fully_conn(x_tensor, num_outputs)\n",
    "    x=fully_conn(x,1000)\n",
    "    tf.nn.dropout(x,keep_prob=keep_prob)\n",
    "    x=fully_conn(x,500)\n",
    "    tf.nn.dropout(x,keep_prob=keep_prob)\n",
    "    x=fully_conn(x,100)\n",
    "    \n",
    "    # TODO: Apply an Output Layer\n",
    "    #    Set this to the number of classes\n",
    "    # Function Definition from Above:\n",
    "    #   output(x_tensor, num_outputs)\n",
    "    x=output(x,10)\n",
    "    \n",
    "    # TODO: return output\n",
    "    return x\n",
    "\n",
    "\n",
    "\"\"\"\n",
    "DON'T MODIFY ANYTHING IN THIS CELL THAT IS BELOW THIS LINE\n",
    "\"\"\"\n",
    "\n",
    "##############################\n",
    "## Build the Neural Network ##\n",
    "##############################\n",
    "\n",
    "# Remove previous weights, bias, inputs, etc..\n",
    "tf.reset_default_graph()\n",
    "\n",
    "# Inputs\n",
    "x = neural_net_image_input((32, 32, 3))\n",
    "y = neural_net_label_input(10)\n",
    "keep_prob = neural_net_keep_prob_input()\n",
    "\n",
    "# Model\n",
    "logits = conv_net(x, keep_prob)\n",
    "\n",
    "# Name logits Tensor, so that is can be loaded from disk after training\n",
    "logits = tf.identity(logits, name='logits')\n",
    "\n",
    "# Loss and Optimizer\n",
    "cost = tf.reduce_mean(tf.nn.softmax_cross_entropy_with_logits(logits=logits, labels=y))\n",
    "optimizer = tf.train.AdamOptimizer().minimize(cost)\n",
    "\n",
    "# Accuracy\n",
    "correct_pred = tf.equal(tf.argmax(logits, 1), tf.argmax(y, 1))\n",
    "accuracy = tf.reduce_mean(tf.cast(correct_pred, tf.float32), name='accuracy')\n",
    "\n",
    "tests.test_conv_net(conv_net)"
   ]
  },
  {
   "cell_type": "markdown",
   "metadata": {},
   "source": [
    "## Train the Neural Network\n",
    "### Single Optimization\n",
    "Implement the function `train_neural_network` to do a single optimization.  The optimization should use `optimizer` to optimize in `session` with a `feed_dict` of the following:\n",
    "* `x` for image input\n",
    "* `y` for labels\n",
    "* `keep_prob` for keep probability for dropout\n",
    "\n",
    "This function will be called for each batch, so `tf.global_variables_initializer()` has already been called.\n",
    "\n",
    "Note: Nothing needs to be returned. This function is only optimizing the neural network."
   ]
  },
  {
   "cell_type": "code",
   "execution_count": 57,
   "metadata": {},
   "outputs": [
    {
     "name": "stdout",
     "output_type": "stream",
     "text": [
      "Tests Passed\n"
     ]
    }
   ],
   "source": [
    "def train_neural_network(session, optimizer, keep_probability, feature_batch, label_batch):\n",
    "    \"\"\"\n",
    "    Optimize the session on a batch of images and labels\n",
    "    : session: Current TensorFlow session\n",
    "    : optimizer: TensorFlow optimizer function\n",
    "    : keep_probability: keep probability\n",
    "    : feature_batch: Batch of Numpy image data\n",
    "    : label_batch: Batch of Numpy label data\n",
    "    \"\"\"\n",
    "    # TODO: Implement Function\n",
    "    session.run(optimizer,feed_dict={x:feature_batch,y:label_batch,keep_prob:keep_probability})\n",
    "\n",
    "\n",
    "\"\"\"\n",
    "DON'T MODIFY ANYTHING IN THIS CELL THAT IS BELOW THIS LINE\n",
    "\"\"\"\n",
    "tests.test_train_nn(train_neural_network)"
   ]
  },
  {
   "cell_type": "markdown",
   "metadata": {},
   "source": [
    "### Show Stats\n",
    "Implement the function `print_stats` to print loss and validation accuracy.  Use the global variables `valid_features` and `valid_labels` to calculate validation accuracy.  Use a keep probability of `1.0` to calculate the loss and validation accuracy."
   ]
  },
  {
   "cell_type": "code",
   "execution_count": 62,
   "metadata": {
    "collapsed": true
   },
   "outputs": [],
   "source": [
    "def print_stats(session, feature_batch, label_batch, cost, accuracy):\n",
    "    \"\"\"\n",
    "    Print information about loss and validation accuracy\n",
    "    : session: Current TensorFlow session\n",
    "    : feature_batch: Batch of Numpy image data\n",
    "    : label_batch: Batch of Numpy label data\n",
    "    : cost: TensorFlow cost function\n",
    "    : accuracy: TensorFlow accuracy function\n",
    "    \"\"\"\n",
    "    # TODO: Implement Function\n",
    "    los=session.run(cost,feed_dict={x:feature_batch,y:label_batch,keep_prob:1.0})\n",
    "    acc=session.run(accuracy,feed_dict={x:valid_features,y:valid_labels,keep_prob:1.0})\n",
    "    print(\"loss={} and validation accuracy={}\".format(los,acc))"
   ]
  },
  {
   "cell_type": "markdown",
   "metadata": {},
   "source": [
    "### Hyperparameters\n",
    "Tune the following parameters:\n",
    "* Set `epochs` to the number of iterations until the network stops learning or start overfitting\n",
    "* Set `batch_size` to the highest number that your machine has memory for.  Most people set them to common sizes of memory:\n",
    " * 64\n",
    " * 128\n",
    " * 256\n",
    " * ...\n",
    "* Set `keep_probability` to the probability of keeping a node using dropout"
   ]
  },
  {
   "cell_type": "code",
   "execution_count": 64,
   "metadata": {
    "collapsed": true
   },
   "outputs": [],
   "source": [
    "# TODO: Tune Parameters\n",
    "epochs = 30\n",
    "batch_size = 128\n",
    "keep_probability = 0.7"
   ]
  },
  {
   "cell_type": "markdown",
   "metadata": {},
   "source": [
    "### Train on a Single CIFAR-10 Batch\n",
    "Instead of training the neural network on all the CIFAR-10 batches of data, let's use a single batch. This should save time while you iterate on the model to get a better accuracy.  Once the final validation accuracy is 50% or greater, run the model on all the data in the next section."
   ]
  },
  {
   "cell_type": "code",
   "execution_count": 65,
   "metadata": {},
   "outputs": [
    {
     "name": "stdout",
     "output_type": "stream",
     "text": [
      "Checking the Training on a Single Batch...\n",
      "Epoch  1, CIFAR-10 Batch 1:  loss=1.8081777095794678 and validation accuracy=0.37279999256134033\n",
      "Epoch  2, CIFAR-10 Batch 1:  loss=1.4839156866073608 and validation accuracy=0.4253999888896942\n",
      "Epoch  3, CIFAR-10 Batch 1:  loss=1.167850375175476 and validation accuracy=0.4458000063896179\n",
      "Epoch  4, CIFAR-10 Batch 1:  loss=0.9576511383056641 and validation accuracy=0.4449999928474426\n",
      "Epoch  5, CIFAR-10 Batch 1:  loss=0.7705264091491699 and validation accuracy=0.475600004196167\n",
      "Epoch  6, CIFAR-10 Batch 1:  loss=0.5788338780403137 and validation accuracy=0.48660001158714294\n",
      "Epoch  7, CIFAR-10 Batch 1:  loss=0.44041013717651367 and validation accuracy=0.4740000069141388\n",
      "Epoch  8, CIFAR-10 Batch 1:  loss=0.319936066865921 and validation accuracy=0.4465999901294708\n",
      "Epoch  9, CIFAR-10 Batch 1:  loss=0.23711419105529785 and validation accuracy=0.4375999867916107\n",
      "Epoch 10, CIFAR-10 Batch 1:  loss=0.2227589190006256 and validation accuracy=0.4496000111103058\n",
      "Epoch 11, CIFAR-10 Batch 1:  loss=0.1540389060974121 and validation accuracy=0.4602000117301941\n",
      "Epoch 12, CIFAR-10 Batch 1:  loss=0.11432287842035294 and validation accuracy=0.46380001306533813\n",
      "Epoch 13, CIFAR-10 Batch 1:  loss=0.12147976458072662 and validation accuracy=0.462799996137619\n",
      "Epoch 14, CIFAR-10 Batch 1:  loss=0.12107362598180771 and validation accuracy=0.4580000042915344\n",
      "Epoch 15, CIFAR-10 Batch 1:  loss=0.08136354386806488 and validation accuracy=0.4381999969482422\n",
      "Epoch 16, CIFAR-10 Batch 1:  loss=0.044057589024305344 and validation accuracy=0.45879998803138733\n",
      "Epoch 17, CIFAR-10 Batch 1:  loss=0.0686202421784401 and validation accuracy=0.4742000102996826\n",
      "Epoch 18, CIFAR-10 Batch 1:  loss=0.05994518846273422 and validation accuracy=0.44859999418258667\n",
      "Epoch 19, CIFAR-10 Batch 1:  loss=0.04366161674261093 and validation accuracy=0.45879998803138733\n",
      "Epoch 20, CIFAR-10 Batch 1:  loss=0.020721064880490303 and validation accuracy=0.4702000021934509\n",
      "Epoch 21, CIFAR-10 Batch 1:  loss=0.024518778547644615 and validation accuracy=0.4487999975681305\n",
      "Epoch 22, CIFAR-10 Batch 1:  loss=0.026811128482222557 and validation accuracy=0.4277999997138977\n",
      "Epoch 23, CIFAR-10 Batch 1:  loss=0.01309685967862606 and validation accuracy=0.4657999873161316\n",
      "Epoch 24, CIFAR-10 Batch 1:  loss=0.004636282101273537 and validation accuracy=0.47279998660087585\n",
      "Epoch 25, CIFAR-10 Batch 1:  loss=0.006367434747517109 and validation accuracy=0.4618000090122223\n",
      "Epoch 26, CIFAR-10 Batch 1:  loss=0.010868118144571781 and validation accuracy=0.47920000553131104\n",
      "Epoch 27, CIFAR-10 Batch 1:  loss=0.006411944516003132 and validation accuracy=0.47999998927116394\n",
      "Epoch 28, CIFAR-10 Batch 1:  loss=0.0024631929118186235 and validation accuracy=0.4896000027656555\n",
      "Epoch 29, CIFAR-10 Batch 1:  loss=0.003567000851035118 and validation accuracy=0.4959999918937683\n",
      "Epoch 30, CIFAR-10 Batch 1:  loss=0.0004729724896606058 and validation accuracy=0.4943999946117401\n"
     ]
    }
   ],
   "source": [
    "\"\"\"\n",
    "DON'T MODIFY ANYTHING IN THIS CELL\n",
    "\"\"\"\n",
    "print('Checking the Training on a Single Batch...')\n",
    "with tf.Session() as sess:\n",
    "    # Initializing the variables\n",
    "    sess.run(tf.global_variables_initializer())\n",
    "    \n",
    "    # Training cycle\n",
    "    for epoch in range(epochs):\n",
    "        batch_i = 1\n",
    "        for batch_features, batch_labels in helper.load_preprocess_training_batch(batch_i, batch_size):\n",
    "            train_neural_network(sess, optimizer, keep_probability, batch_features, batch_labels)\n",
    "        print('Epoch {:>2}, CIFAR-10 Batch {}:  '.format(epoch + 1, batch_i), end='')\n",
    "        print_stats(sess, batch_features, batch_labels, cost, accuracy)"
   ]
  },
  {
   "cell_type": "markdown",
   "metadata": {},
   "source": [
    "### Fully Train the Model\n",
    "Now that you got a good accuracy with a single CIFAR-10 batch, try it with all five batches."
   ]
  },
  {
   "cell_type": "code",
   "execution_count": 66,
   "metadata": {},
   "outputs": [
    {
     "name": "stdout",
     "output_type": "stream",
     "text": [
      "Training...\n",
      "Epoch  1, CIFAR-10 Batch 1:  loss=2.1314384937286377 and validation accuracy=0.313400000333786\n",
      "Epoch  1, CIFAR-10 Batch 2:  loss=1.4949712753295898 and validation accuracy=0.4174000024795532\n",
      "Epoch  1, CIFAR-10 Batch 3:  loss=1.2634222507476807 and validation accuracy=0.4262000024318695\n",
      "Epoch  1, CIFAR-10 Batch 4:  loss=1.3024553060531616 and validation accuracy=0.4765999913215637\n",
      "Epoch  1, CIFAR-10 Batch 5:  loss=1.4556487798690796 and validation accuracy=0.5260000228881836\n",
      "Epoch  2, CIFAR-10 Batch 1:  loss=1.4127483367919922 and validation accuracy=0.5260000228881836\n",
      "Epoch  2, CIFAR-10 Batch 2:  loss=0.9971981048583984 and validation accuracy=0.5288000106811523\n",
      "Epoch  2, CIFAR-10 Batch 3:  loss=1.036750078201294 and validation accuracy=0.5386000275611877\n",
      "Epoch  2, CIFAR-10 Batch 4:  loss=0.9383280873298645 and validation accuracy=0.5676000118255615\n",
      "Epoch  2, CIFAR-10 Batch 5:  loss=1.1235707998275757 and validation accuracy=0.5655999779701233\n",
      "Epoch  3, CIFAR-10 Batch 1:  loss=1.1201984882354736 and validation accuracy=0.5569999814033508\n",
      "Epoch  3, CIFAR-10 Batch 2:  loss=0.7752350568771362 and validation accuracy=0.5848000049591064\n",
      "Epoch  3, CIFAR-10 Batch 3:  loss=0.8361748456954956 and validation accuracy=0.5785999894142151\n",
      "Epoch  3, CIFAR-10 Batch 4:  loss=0.7835971117019653 and validation accuracy=0.5953999757766724\n",
      "Epoch  3, CIFAR-10 Batch 5:  loss=0.7628103494644165 and validation accuracy=0.6144000291824341\n",
      "Epoch  4, CIFAR-10 Batch 1:  loss=0.9030740857124329 and validation accuracy=0.6001999974250793\n",
      "Epoch  4, CIFAR-10 Batch 2:  loss=0.6005669832229614 and validation accuracy=0.6182000041007996\n",
      "Epoch  4, CIFAR-10 Batch 3:  loss=0.5981572270393372 and validation accuracy=0.592199981212616\n",
      "Epoch  4, CIFAR-10 Batch 4:  loss=0.5564025640487671 and validation accuracy=0.6047999858856201\n",
      "Epoch  4, CIFAR-10 Batch 5:  loss=0.5578622817993164 and validation accuracy=0.6208000183105469\n",
      "Epoch  5, CIFAR-10 Batch 1:  loss=0.6763573884963989 and validation accuracy=0.6237999796867371\n",
      "Epoch  5, CIFAR-10 Batch 2:  loss=0.4543795585632324 and validation accuracy=0.6273999810218811\n",
      "Epoch  5, CIFAR-10 Batch 3:  loss=0.3869516849517822 and validation accuracy=0.6032000184059143\n",
      "Epoch  5, CIFAR-10 Batch 4:  loss=0.3966526389122009 and validation accuracy=0.6046000123023987\n",
      "Epoch  5, CIFAR-10 Batch 5:  loss=0.390627920627594 and validation accuracy=0.6129999756813049\n",
      "Epoch  6, CIFAR-10 Batch 1:  loss=0.5134128332138062 and validation accuracy=0.6330000162124634\n",
      "Epoch  6, CIFAR-10 Batch 2:  loss=0.3460376560688019 and validation accuracy=0.6284000277519226\n",
      "Epoch  6, CIFAR-10 Batch 3:  loss=0.2625752389431 and validation accuracy=0.6010000109672546\n",
      "Epoch  6, CIFAR-10 Batch 4:  loss=0.21689698100090027 and validation accuracy=0.621399998664856\n",
      "Epoch  6, CIFAR-10 Batch 5:  loss=0.3171384334564209 and validation accuracy=0.6195999979972839\n",
      "Epoch  7, CIFAR-10 Batch 1:  loss=0.3557630777359009 and validation accuracy=0.6075999736785889\n",
      "Epoch  7, CIFAR-10 Batch 2:  loss=0.2215966284275055 and validation accuracy=0.628000020980835\n",
      "Epoch  7, CIFAR-10 Batch 3:  loss=0.22835159301757812 and validation accuracy=0.5960000157356262\n",
      "Epoch  7, CIFAR-10 Batch 4:  loss=0.14400608837604523 and validation accuracy=0.6046000123023987\n",
      "Epoch  7, CIFAR-10 Batch 5:  loss=0.18868117034435272 and validation accuracy=0.628600001335144\n",
      "Epoch  8, CIFAR-10 Batch 1:  loss=0.20889322459697723 and validation accuracy=0.5866000056266785\n",
      "Epoch  8, CIFAR-10 Batch 2:  loss=0.13714836537837982 and validation accuracy=0.6173999905586243\n",
      "Epoch  8, CIFAR-10 Batch 3:  loss=0.15427692234516144 and validation accuracy=0.6060000061988831\n",
      "Epoch  8, CIFAR-10 Batch 4:  loss=0.11153621971607208 and validation accuracy=0.5974000096321106\n",
      "Epoch  8, CIFAR-10 Batch 5:  loss=0.1455104649066925 and validation accuracy=0.6075999736785889\n",
      "Epoch  9, CIFAR-10 Batch 1:  loss=0.15387549996376038 and validation accuracy=0.618399977684021\n",
      "Epoch  9, CIFAR-10 Batch 2:  loss=0.16309994459152222 and validation accuracy=0.5830000042915344\n",
      "Epoch  9, CIFAR-10 Batch 3:  loss=0.10538811981678009 and validation accuracy=0.5971999764442444\n",
      "Epoch  9, CIFAR-10 Batch 4:  loss=0.16701269149780273 and validation accuracy=0.6158000230789185\n",
      "Epoch  9, CIFAR-10 Batch 5:  loss=0.11160026490688324 and validation accuracy=0.604200005531311\n",
      "Epoch 10, CIFAR-10 Batch 1:  loss=0.15460236370563507 and validation accuracy=0.6195999979972839\n",
      "Epoch 10, CIFAR-10 Batch 2:  loss=0.14169058203697205 and validation accuracy=0.5776000022888184\n",
      "Epoch 10, CIFAR-10 Batch 3:  loss=0.08426561206579208 and validation accuracy=0.6101999878883362\n",
      "Epoch 10, CIFAR-10 Batch 4:  loss=0.07957524061203003 and validation accuracy=0.6172000169754028\n",
      "Epoch 10, CIFAR-10 Batch 5:  loss=0.09174425899982452 and validation accuracy=0.6032000184059143\n",
      "Epoch 11, CIFAR-10 Batch 1:  loss=0.08877581357955933 and validation accuracy=0.6032000184059143\n",
      "Epoch 11, CIFAR-10 Batch 2:  loss=0.09063371270895004 and validation accuracy=0.6132000088691711\n",
      "Epoch 11, CIFAR-10 Batch 3:  loss=0.06261591613292694 and validation accuracy=0.6133999824523926\n",
      "Epoch 11, CIFAR-10 Batch 4:  loss=0.08945942670106888 and validation accuracy=0.6137999892234802\n",
      "Epoch 11, CIFAR-10 Batch 5:  loss=0.06247906759381294 and validation accuracy=0.5827999711036682\n",
      "Epoch 12, CIFAR-10 Batch 1:  loss=0.08183173090219498 and validation accuracy=0.6087999939918518\n",
      "Epoch 12, CIFAR-10 Batch 2:  loss=0.08545196801424026 and validation accuracy=0.5953999757766724\n",
      "Epoch 12, CIFAR-10 Batch 3:  loss=0.051931750029325485 and validation accuracy=0.6057999730110168\n",
      "Epoch 12, CIFAR-10 Batch 4:  loss=0.04467025026679039 and validation accuracy=0.6179999709129333\n",
      "Epoch 12, CIFAR-10 Batch 5:  loss=0.054888300597667694 and validation accuracy=0.592199981212616\n",
      "Epoch 13, CIFAR-10 Batch 1:  loss=0.05314924567937851 and validation accuracy=0.6014000177383423\n",
      "Epoch 13, CIFAR-10 Batch 2:  loss=0.028663968667387962 and validation accuracy=0.6079999804496765\n",
      "Epoch 13, CIFAR-10 Batch 3:  loss=0.03517371416091919 and validation accuracy=0.59579998254776\n",
      "Epoch 13, CIFAR-10 Batch 4:  loss=0.0392991341650486 and validation accuracy=0.6039999723434448\n",
      "Epoch 13, CIFAR-10 Batch 5:  loss=0.035522110760211945 and validation accuracy=0.5889999866485596\n",
      "Epoch 14, CIFAR-10 Batch 1:  loss=0.032624877989292145 and validation accuracy=0.6126000285148621\n",
      "Epoch 14, CIFAR-10 Batch 2:  loss=0.015647176653146744 and validation accuracy=0.6132000088691711\n",
      "Epoch 14, CIFAR-10 Batch 3:  loss=0.012292255647480488 and validation accuracy=0.5889999866485596\n",
      "Epoch 14, CIFAR-10 Batch 4:  loss=0.03998830169439316 and validation accuracy=0.6144000291824341\n",
      "Epoch 14, CIFAR-10 Batch 5:  loss=0.036170538514852524 and validation accuracy=0.6187999844551086\n",
      "Epoch 15, CIFAR-10 Batch 1:  loss=0.03538408875465393 and validation accuracy=0.6050000190734863\n",
      "Epoch 15, CIFAR-10 Batch 2:  loss=0.00834942702203989 and validation accuracy=0.6086000204086304\n",
      "Epoch 15, CIFAR-10 Batch 3:  loss=0.019772619009017944 and validation accuracy=0.571399986743927\n",
      "Epoch 15, CIFAR-10 Batch 4:  loss=0.031199628487229347 and validation accuracy=0.5952000021934509\n",
      "Epoch 15, CIFAR-10 Batch 5:  loss=0.014989303424954414 and validation accuracy=0.6046000123023987\n",
      "Epoch 16, CIFAR-10 Batch 1:  loss=0.019135376438498497 and validation accuracy=0.6209999918937683\n",
      "Epoch 16, CIFAR-10 Batch 2:  loss=0.016967743635177612 and validation accuracy=0.6111999750137329\n",
      "Epoch 16, CIFAR-10 Batch 3:  loss=0.013963687233626842 and validation accuracy=0.5587999820709229\n",
      "Epoch 16, CIFAR-10 Batch 4:  loss=0.017599670216441154 and validation accuracy=0.6025999784469604\n",
      "Epoch 16, CIFAR-10 Batch 5:  loss=0.016288235783576965 and validation accuracy=0.5874000191688538\n",
      "Epoch 17, CIFAR-10 Batch 1:  loss=0.013810140080749989 and validation accuracy=0.6215999722480774\n",
      "Epoch 17, CIFAR-10 Batch 2:  loss=0.006259538233280182 and validation accuracy=0.6092000007629395\n",
      "Epoch 17, CIFAR-10 Batch 3:  loss=0.006324160844087601 and validation accuracy=0.592199981212616\n",
      "Epoch 17, CIFAR-10 Batch 4:  loss=0.00942892488092184 and validation accuracy=0.6000000238418579\n"
     ]
    },
    {
     "name": "stdout",
     "output_type": "stream",
     "text": [
      "Epoch 17, CIFAR-10 Batch 5:  loss=0.011741258203983307 and validation accuracy=0.5893999934196472\n",
      "Epoch 18, CIFAR-10 Batch 1:  loss=0.01592765375971794 and validation accuracy=0.6123999953269958\n",
      "Epoch 18, CIFAR-10 Batch 2:  loss=0.005937802605330944 and validation accuracy=0.6047999858856201\n",
      "Epoch 18, CIFAR-10 Batch 3:  loss=0.0073197996243834496 and validation accuracy=0.6029999852180481\n",
      "Epoch 18, CIFAR-10 Batch 4:  loss=0.013770679011940956 and validation accuracy=0.6123999953269958\n",
      "Epoch 18, CIFAR-10 Batch 5:  loss=0.010790364816784859 and validation accuracy=0.5952000021934509\n",
      "Epoch 19, CIFAR-10 Batch 1:  loss=0.01930251717567444 and validation accuracy=0.5809999704360962\n",
      "Epoch 19, CIFAR-10 Batch 2:  loss=0.0050122374668717384 and validation accuracy=0.6082000136375427\n",
      "Epoch 19, CIFAR-10 Batch 3:  loss=0.011265811510384083 and validation accuracy=0.6029999852180481\n",
      "Epoch 19, CIFAR-10 Batch 4:  loss=0.009334301576018333 and validation accuracy=0.6133999824523926\n",
      "Epoch 19, CIFAR-10 Batch 5:  loss=0.010522888973355293 and validation accuracy=0.614799976348877\n",
      "Epoch 20, CIFAR-10 Batch 1:  loss=0.011871841736137867 and validation accuracy=0.6150000095367432\n",
      "Epoch 20, CIFAR-10 Batch 2:  loss=0.007335363421589136 and validation accuracy=0.5946000218391418\n",
      "Epoch 20, CIFAR-10 Batch 3:  loss=0.003513569012284279 and validation accuracy=0.5997999906539917\n",
      "Epoch 20, CIFAR-10 Batch 4:  loss=0.0059537445195019245 and validation accuracy=0.607200026512146\n",
      "Epoch 20, CIFAR-10 Batch 5:  loss=0.001905306475237012 and validation accuracy=0.6177999973297119\n",
      "Epoch 21, CIFAR-10 Batch 1:  loss=0.0068352604284882545 and validation accuracy=0.6119999885559082\n",
      "Epoch 21, CIFAR-10 Batch 2:  loss=0.009376735426485538 and validation accuracy=0.6064000129699707\n",
      "Epoch 21, CIFAR-10 Batch 3:  loss=0.0028984551317989826 and validation accuracy=0.621999979019165\n",
      "Epoch 21, CIFAR-10 Batch 4:  loss=0.004291616380214691 and validation accuracy=0.6215999722480774\n",
      "Epoch 21, CIFAR-10 Batch 5:  loss=0.0015934158582240343 and validation accuracy=0.6230000257492065\n",
      "Epoch 22, CIFAR-10 Batch 1:  loss=0.002155827824026346 and validation accuracy=0.6269999742507935\n",
      "Epoch 22, CIFAR-10 Batch 2:  loss=0.00912652537226677 and validation accuracy=0.599399983882904\n",
      "Epoch 22, CIFAR-10 Batch 3:  loss=0.0019164190161973238 and validation accuracy=0.6126000285148621\n",
      "Epoch 22, CIFAR-10 Batch 4:  loss=0.0056939441710710526 and validation accuracy=0.6018000245094299\n",
      "Epoch 22, CIFAR-10 Batch 5:  loss=0.0004724207683466375 and validation accuracy=0.6187999844551086\n",
      "Epoch 23, CIFAR-10 Batch 1:  loss=0.003095801919698715 and validation accuracy=0.6218000054359436\n",
      "Epoch 23, CIFAR-10 Batch 2:  loss=0.006767154671251774 and validation accuracy=0.5946000218391418\n",
      "Epoch 23, CIFAR-10 Batch 3:  loss=0.0016453067073598504 and validation accuracy=0.6272000074386597\n",
      "Epoch 23, CIFAR-10 Batch 4:  loss=0.0035102292895317078 and validation accuracy=0.6177999973297119\n",
      "Epoch 23, CIFAR-10 Batch 5:  loss=0.001736583188176155 and validation accuracy=0.6200000047683716\n",
      "Epoch 24, CIFAR-10 Batch 1:  loss=0.00331403617747128 and validation accuracy=0.621399998664856\n",
      "Epoch 24, CIFAR-10 Batch 2:  loss=0.0019347291672602296 and validation accuracy=0.6015999913215637\n",
      "Epoch 24, CIFAR-10 Batch 3:  loss=0.0016036104643717408 and validation accuracy=0.6092000007629395\n",
      "Epoch 24, CIFAR-10 Batch 4:  loss=0.00238504889421165 and validation accuracy=0.6033999919891357\n",
      "Epoch 24, CIFAR-10 Batch 5:  loss=0.002752963686361909 and validation accuracy=0.614799976348877\n",
      "Epoch 25, CIFAR-10 Batch 1:  loss=0.003425556467846036 and validation accuracy=0.6190000176429749\n",
      "Epoch 25, CIFAR-10 Batch 2:  loss=0.0008492266060784459 and validation accuracy=0.6060000061988831\n",
      "Epoch 25, CIFAR-10 Batch 3:  loss=0.002763051073998213 and validation accuracy=0.6122000217437744\n",
      "Epoch 25, CIFAR-10 Batch 4:  loss=0.0013307466870173812 and validation accuracy=0.6205999851226807\n",
      "Epoch 25, CIFAR-10 Batch 5:  loss=0.002632110845297575 and validation accuracy=0.6093999743461609\n",
      "Epoch 26, CIFAR-10 Batch 1:  loss=0.0012140569742769003 and validation accuracy=0.6129999756813049\n",
      "Epoch 26, CIFAR-10 Batch 2:  loss=0.003011517459526658 and validation accuracy=0.5956000089645386\n",
      "Epoch 26, CIFAR-10 Batch 3:  loss=0.002385474042966962 and validation accuracy=0.6182000041007996\n",
      "Epoch 26, CIFAR-10 Batch 4:  loss=0.0030154187697917223 and validation accuracy=0.6191999912261963\n",
      "Epoch 26, CIFAR-10 Batch 5:  loss=0.002388931578025222 and validation accuracy=0.6208000183105469\n",
      "Epoch 27, CIFAR-10 Batch 1:  loss=0.002826502313837409 and validation accuracy=0.6003999710083008\n",
      "Epoch 27, CIFAR-10 Batch 2:  loss=0.000880660954862833 and validation accuracy=0.6019999980926514\n",
      "Epoch 27, CIFAR-10 Batch 3:  loss=0.00264752097427845 and validation accuracy=0.6093999743461609\n",
      "Epoch 27, CIFAR-10 Batch 4:  loss=0.004192426800727844 and validation accuracy=0.6144000291824341\n",
      "Epoch 27, CIFAR-10 Batch 5:  loss=0.0021820920519530773 and validation accuracy=0.6129999756813049\n",
      "Epoch 28, CIFAR-10 Batch 1:  loss=0.0014269736129790545 and validation accuracy=0.6028000116348267\n",
      "Epoch 28, CIFAR-10 Batch 2:  loss=0.0020079179666936398 and validation accuracy=0.6065999865531921\n",
      "Epoch 28, CIFAR-10 Batch 3:  loss=0.0023464413825422525 and validation accuracy=0.6118000149726868\n",
      "Epoch 28, CIFAR-10 Batch 4:  loss=0.002101733349263668 and validation accuracy=0.6087999939918518\n",
      "Epoch 28, CIFAR-10 Batch 5:  loss=0.0018834220245480537 and validation accuracy=0.6128000020980835\n",
      "Epoch 29, CIFAR-10 Batch 1:  loss=0.004072690382599831 and validation accuracy=0.6065999865531921\n",
      "Epoch 29, CIFAR-10 Batch 2:  loss=0.0012281842064112425 and validation accuracy=0.6069999933242798\n",
      "Epoch 29, CIFAR-10 Batch 3:  loss=0.0011987292673438787 and validation accuracy=0.6172000169754028\n",
      "Epoch 29, CIFAR-10 Batch 4:  loss=0.0013507066760212183 and validation accuracy=0.6123999953269958\n",
      "Epoch 29, CIFAR-10 Batch 5:  loss=0.002826850861310959 and validation accuracy=0.6254000067710876\n",
      "Epoch 30, CIFAR-10 Batch 1:  loss=0.0056387269869446754 and validation accuracy=0.6069999933242798\n",
      "Epoch 30, CIFAR-10 Batch 2:  loss=0.006261399947106838 and validation accuracy=0.5938000082969666\n",
      "Epoch 30, CIFAR-10 Batch 3:  loss=0.004287282470613718 and validation accuracy=0.6010000109672546\n",
      "Epoch 30, CIFAR-10 Batch 4:  loss=0.0011279629543423653 and validation accuracy=0.6136000156402588\n",
      "Epoch 30, CIFAR-10 Batch 5:  loss=0.003923384007066488 and validation accuracy=0.6259999871253967\n"
     ]
    }
   ],
   "source": [
    "\"\"\"\n",
    "DON'T MODIFY ANYTHING IN THIS CELL\n",
    "\"\"\"\n",
    "save_model_path = './image_classification'\n",
    "\n",
    "print('Training...')\n",
    "with tf.Session() as sess:\n",
    "    # Initializing the variables\n",
    "    sess.run(tf.global_variables_initializer())\n",
    "    \n",
    "    # Training cycle\n",
    "    for epoch in range(epochs):\n",
    "        # Loop over all batches\n",
    "        n_batches = 5\n",
    "        for batch_i in range(1, n_batches + 1):\n",
    "            for batch_features, batch_labels in helper.load_preprocess_training_batch(batch_i, batch_size):\n",
    "                train_neural_network(sess, optimizer, keep_probability, batch_features, batch_labels)\n",
    "            print('Epoch {:>2}, CIFAR-10 Batch {}:  '.format(epoch + 1, batch_i), end='')\n",
    "            print_stats(sess, batch_features, batch_labels, cost, accuracy)\n",
    "            \n",
    "    # Save Model\n",
    "    saver = tf.train.Saver()\n",
    "    save_path = saver.save(sess, save_model_path)"
   ]
  },
  {
   "cell_type": "markdown",
   "metadata": {},
   "source": [
    "# Checkpoint\n",
    "The model has been saved to disk.\n",
    "## Test Model\n",
    "Test your model against the test dataset.  This will be your final accuracy. You should have an accuracy greater than 50%. If you don't, keep tweaking the model architecture and parameters."
   ]
  },
  {
   "cell_type": "code",
   "execution_count": 67,
   "metadata": {},
   "outputs": [
    {
     "name": "stdout",
     "output_type": "stream",
     "text": [
      "INFO:tensorflow:Restoring parameters from ./image_classification\n",
      "Testing Accuracy: 0.6265822784810127\n",
      "\n"
     ]
    },
    {
     "data": {
      "image/png": "[encoded data removed]",
      "text/plain": [
       "<matplotlib.figure.Figure at 0x1299dd7b00>"
      ]
     },
     "metadata": {
      "image/png": {
       "height": 319,
       "width": 355
      }
     },
     "output_type": "display_data"
    }
   ],
   "source": [
    "\"\"\"\n",
    "DON'T MODIFY ANYTHING IN THIS CELL\n",
    "\"\"\"\n",
    "%matplotlib inline\n",
    "%config InlineBackend.figure_format = 'retina'\n",
    "\n",
    "import tensorflow as tf\n",
    "import pickle\n",
    "import helper\n",
    "import random\n",
    "\n",
    "# Set batch size if not already set\n",
    "try:\n",
    "    if batch_size:\n",
    "        pass\n",
    "except NameError:\n",
    "    batch_size = 64\n",
    "\n",
    "save_model_path = './image_classification'\n",
    "n_samples = 4\n",
    "top_n_predictions = 3\n",
    "\n",
    "def test_model():\n",
    "    \"\"\"\n",
    "    Test the saved model against the test dataset\n",
    "    \"\"\"\n",
    "\n",
    "    test_features, test_labels = pickle.load(open('preprocess_training.p', mode='rb'))\n",
    "    loaded_graph = tf.Graph()\n",
    "\n",
    "    with tf.Session(graph=loaded_graph) as sess:\n",
    "        # Load model\n",
    "        loader = tf.train.import_meta_graph(save_model_path + '.meta')\n",
    "        loader.restore(sess, save_model_path)\n",
    "\n",
    "        # Get Tensors from loaded model\n",
    "        loaded_x = loaded_graph.get_tensor_by_name('x:0')\n",
    "        loaded_y = loaded_graph.get_tensor_by_name('y:0')\n",
    "        loaded_keep_prob = loaded_graph.get_tensor_by_name('keep_prob:0')\n",
    "        loaded_logits = loaded_graph.get_tensor_by_name('logits:0')\n",
    "        loaded_acc = loaded_graph.get_tensor_by_name('accuracy:0')\n",
    "        \n",
    "        # Get accuracy in batches for memory limitations\n",
    "        test_batch_acc_total = 0\n",
    "        test_batch_count = 0\n",
    "        \n",
    "        for train_feature_batch, train_label_batch in helper.batch_features_labels(test_features, test_labels, batch_size):\n",
    "            test_batch_acc_total += sess.run(\n",
    "                loaded_acc,\n",
    "                feed_dict={loaded_x: train_feature_batch, loaded_y: train_label_batch, loaded_keep_prob: 1.0})\n",
    "            test_batch_count += 1\n",
    "\n",
    "        print('Testing Accuracy: {}\\n'.format(test_batch_acc_total/test_batch_count))\n",
    "\n",
    "        # Print Random Samples\n",
    "        random_test_features, random_test_labels = tuple(zip(*random.sample(list(zip(test_features, test_labels)), n_samples)))\n",
    "        random_test_predictions = sess.run(\n",
    "            tf.nn.top_k(tf.nn.softmax(loaded_logits), top_n_predictions),\n",
    "            feed_dict={loaded_x: random_test_features, loaded_y: random_test_labels, loaded_keep_prob: 1.0})\n",
    "        helper.display_image_predictions(random_test_features, random_test_labels, random_test_predictions)\n",
    "\n",
    "\n",
    "test_model()"
   ]
  },
  {
   "cell_type": "markdown",
   "metadata": {},
   "source": [
    "## Why 50-80% Accuracy?\n",
    "You might be wondering why you can't get an accuracy any higher. First things first, 50% isn't bad for a simple CNN.  Pure guessing would get you 10% accuracy. That's because there are many more techniques that can be applied to your model and we recemmond that once you are done with this project, you explore!\n",
    "\n",
    "## Submitting This Project\n",
    "When submitting this project, make sure to run all the cells before saving the notebook.  Save the notebook file as \"image_classification.ipynb\" and save it as a HTML file under \"File\" -> \"Download as\".  Include the \"helper.py\" and \"problem_unittests.py\" files in your submission."
   ]
  }
 ],
 "metadata": {
  "kernelspec": {
   "display_name": "Python 3",
   "language": "python",
   "name": "python3"
  },
  "language_info": {
   "codemirror_mode": {
    "name": "ipython",
    "version": 3
   },
   "file_extension": ".py",
   "mimetype": "text/x-python",
   "name": "python",
   "nbconvert_exporter": "python",
   "pygments_lexer": "ipython3",
   "version": "3.5.4"
  }
 },
 "nbformat": 4,
 "nbformat_minor": 1
}
